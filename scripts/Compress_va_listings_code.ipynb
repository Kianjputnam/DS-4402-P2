{
 "cells": [
  {
   "cell_type": "code",
   "execution_count": 1,
   "id": "63d48040-d52a-4519-ab71-45f2945dc560",
   "metadata": {},
   "outputs": [],
   "source": [
    "import pandas as pd\n",
    "\n",
    "# Define the file path for the original CSV\n",
    "original_file_path = r\"C:\\Users\\putna\\Downloads\\va_filtered_listings.csv\"\n",
    "\n",
    "# Read the CSV file\n",
    "df = pd.read_csv(original_file_path)\n"
   ]
  },
  {
   "cell_type": "code",
   "execution_count": 2,
   "id": "aa7f0ffb-fe8b-4938-a004-683780ebc922",
   "metadata": {},
   "outputs": [
    {
     "name": "stdout",
     "output_type": "stream",
     "text": [
      "Compressed file saved at: C:\\Users\\putna\\Downloads\\va_filtered_listings.csv.gz\n"
     ]
    }
   ],
   "source": [
    "# Define the compressed file path\n",
    "compressed_file_path = r\"C:\\Users\\putna\\Downloads\\va_filtered_listings.csv.gz\"\n",
    "\n",
    "# Save as a compressed gzip file\n",
    "df.to_csv(compressed_file_path, index=False, compression=\"gzip\")\n",
    "\n",
    "print(f\"Compressed file saved at: {compressed_file_path}\")\n"
   ]
  },
  {
   "cell_type": "code",
   "execution_count": null,
   "id": "ab7e52b7-204d-400c-87c5-8036ae996730",
   "metadata": {},
   "outputs": [],
   "source": []
  }
 ],
 "metadata": {
  "kernelspec": {
   "display_name": "Python 3 (ipykernel)",
   "language": "python",
   "name": "python3"
  },
  "language_info": {
   "codemirror_mode": {
    "name": "ipython",
    "version": 3
   },
   "file_extension": ".py",
   "mimetype": "text/x-python",
   "name": "python",
   "nbconvert_exporter": "python",
   "pygments_lexer": "ipython3",
   "version": "3.12.4"
  }
 },
 "nbformat": 4,
 "nbformat_minor": 5
}
